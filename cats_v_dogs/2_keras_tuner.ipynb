{
 "cells": [
  {
   "cell_type": "markdown",
   "metadata": {},
   "source": [
    "# Keras Tuner"
   ]
  },
  {
   "cell_type": "code",
   "execution_count": 33,
   "metadata": {},
   "outputs": [],
   "source": [
    "# imports\n",
    "import numpy as np\n",
    "import matplotlib.pyplot as plt\n",
    "import glob\n",
    "\n",
    "import tensorflow as tf\n",
    "\n",
    "from tensorflow.keras.models import Sequential\n",
    "from tensorflow.keras.layers import Rescaling, Conv2D, Dropout, MaxPooling2D, Dense, Flatten\n",
    "from tensorflow.keras.callbacks import EarlyStopping\n",
    "\n",
    "import keras_tuner as kt\n",
    "from tensorflow import keras"
   ]
  },
  {
   "cell_type": "code",
   "execution_count": 2,
   "metadata": {},
   "outputs": [
    {
     "name": "stdout",
     "output_type": "stream",
     "text": [
      "TensorFlow version: 2.12.0\n",
      "GPUs detected: [PhysicalDevice(name='/physical_device:GPU:0', device_type='GPU')]\n"
     ]
    }
   ],
   "source": [
    "print(\"TensorFlow version:\", tf.__version__)\n",
    "print(\"GPUs detected:\", tf.config.list_physical_devices('GPU'))"
   ]
  },
  {
   "cell_type": "markdown",
   "metadata": {},
   "source": [
    "# Preparing filepaths"
   ]
  },
  {
   "cell_type": "code",
   "execution_count": 3,
   "metadata": {},
   "outputs": [],
   "source": [
    "# set up the folder structure\n",
    "\n",
    "folder = 'data/dogs-vs-cats/'\n",
    "train_folder = folder + 'train/'\n",
    "test_folder = folder + 'test/'\n",
    "\n",
    "# glob to get the file paths\n",
    "train_paths = glob.glob(train_folder + '*')\n",
    "test_paths = glob.glob(test_folder + '*')"
   ]
  },
  {
   "cell_type": "code",
   "execution_count": 4,
   "metadata": {},
   "outputs": [
    {
     "data": {
      "text/plain": [
       "('data/dogs-vs-cats/train/dog.8011.jpg', 'data/dogs-vs-cats/test/9733.jpg')"
      ]
     },
     "execution_count": 4,
     "metadata": {},
     "output_type": "execute_result"
    }
   ],
   "source": [
    "# check the file paths\n",
    "\n",
    "train_paths[0], test_paths[0]"
   ]
  },
  {
   "cell_type": "code",
   "execution_count": 5,
   "metadata": {},
   "outputs": [],
   "source": [
    "# define the variables\n",
    "\n",
    "BATCH_SIZE = 32\n",
    "WIDTH = 224\n",
    "HEIGHT = 224\n",
    "CHANNELS = 3\n",
    "INPUT_SHAPE = (HEIGHT, WIDTH, CHANNELS)"
   ]
  },
  {
   "cell_type": "markdown",
   "metadata": {},
   "source": [
    "# Create test Dataset (no labels)"
   ]
  },
  {
   "cell_type": "code",
   "execution_count": 6,
   "metadata": {},
   "outputs": [],
   "source": [
    "# load the test dataset, no label extraction needed\n",
    "\n",
    "def process_test_path(file_path):\n",
    "  img = tf.io.read_file(file_path)\n",
    "  img = tf.image.decode_jpeg(img, channels=3)\n",
    "  img = tf.image.resize(img, [224, 224])\n",
    "  return img"
   ]
  },
  {
   "cell_type": "code",
   "execution_count": 7,
   "metadata": {},
   "outputs": [
    {
     "name": "stdout",
     "output_type": "stream",
     "text": [
      "Metal device set to: Apple M3\n",
      "\n",
      "systemMemory: 16.00 GB\n",
      "maxCacheSize: 5.33 GB\n",
      "\n"
     ]
    },
    {
     "data": {
      "text/plain": [
       "<_PrefetchDataset element_spec=TensorSpec(shape=(None, 224, 224, 3), dtype=tf.float32, name=None)>"
      ]
     },
     "execution_count": 7,
     "metadata": {},
     "output_type": "execute_result"
    }
   ],
   "source": [
    "# build the test dataset\n",
    "\n",
    "test_paths = tf.data.Dataset.list_files(test_paths, shuffle=False)\n",
    "\n",
    "test_ds = test_paths.map(process_test_path, num_parallel_calls=tf.data.AUTOTUNE)\n",
    "test_ds = test_ds.batch(BATCH_SIZE).prefetch(tf.data.AUTOTUNE)\n",
    "\n",
    "test_ds"
   ]
  },
  {
   "cell_type": "code",
   "execution_count": 8,
   "metadata": {},
   "outputs": [
    {
     "name": "stdout",
     "output_type": "stream",
     "text": [
      "(32, 224, 224, 3)\n"
     ]
    },
    {
     "name": "stderr",
     "output_type": "stream",
     "text": [
      "2025-04-19 20:35:04.759628: W tensorflow/tsl/platform/profile_utils/cpu_utils.cc:128] Failed to get CPU frequency: 0 Hz\n"
     ]
    }
   ],
   "source": [
    "# check the test dataset\n",
    "\n",
    "for images in test_ds.take(1):\n",
    "  print(images.shape)"
   ]
  },
  {
   "cell_type": "markdown",
   "metadata": {},
   "source": [
    "# Extracting train labels from filepath"
   ]
  },
  {
   "cell_type": "code",
   "execution_count": 9,
   "metadata": {},
   "outputs": [
    {
     "data": {
      "text/plain": [
       "'dog'"
      ]
     },
     "execution_count": 9,
     "metadata": {},
     "output_type": "execute_result"
    }
   ],
   "source": [
    "# get the class label from the filename\n",
    "\n",
    "image_name = tf.strings.split(train_paths[0], sep='/')\n",
    "label_tf = tf.strings.split(image_name[-1], sep='.')[0]\n",
    "label_decoded = label_tf.numpy().decode()\n",
    "label_decoded\n"
   ]
  },
  {
   "cell_type": "code",
   "execution_count": 10,
   "metadata": {},
   "outputs": [
    {
     "data": {
      "text/plain": [
       "{0: 'cat', 1: 'dog'}"
      ]
     },
     "execution_count": 10,
     "metadata": {},
     "output_type": "execute_result"
    }
   ],
   "source": [
    "# create a dictionary to track the class names\n",
    "\n",
    "class_names = {0: 'cat', 1: 'dog'}\n",
    "class_names"
   ]
  },
  {
   "cell_type": "code",
   "execution_count": 11,
   "metadata": {},
   "outputs": [],
   "source": [
    "# create the a tf function to get the class label from the filename\n",
    "\n",
    "def get_label(file_path):\n",
    "  filename = tf.strings.split(file_path, '/')[-1]\n",
    "  label_str = tf.strings.split(filename, sep='.')[0]\n",
    "\n",
    "  # map label to integer\n",
    "  label = tf.where(tf.equal(label_str, 'dog'), 1, 0)\n",
    "  return label\n"
   ]
  },
  {
   "cell_type": "code",
   "execution_count": 12,
   "metadata": {},
   "outputs": [],
   "source": [
    "# create a function to decode the actual images into tensors\n",
    "\n",
    "def decode_img(file_path):\n",
    "  img = tf.io.read_file(file_path)\n",
    "  img = tf.image.decode_jpeg(img, channels=3)\n",
    "  img = tf.image.resize(img, [224, 224])\n",
    "  return img"
   ]
  },
  {
   "cell_type": "code",
   "execution_count": 13,
   "metadata": {},
   "outputs": [],
   "source": [
    "# create function to use the above 2 functions to return image and label pairs\n",
    "\n",
    "def process_path(file_path):\n",
    "  label = get_label(file_path)\n",
    "  image = decode_img(file_path)\n",
    "  return image, label"
   ]
  },
  {
   "cell_type": "markdown",
   "metadata": {},
   "source": [
    "# Train/Val Split"
   ]
  },
  {
   "cell_type": "code",
   "execution_count": 14,
   "metadata": {},
   "outputs": [],
   "source": [
    "# split train and val manually\n",
    "\n",
    "# shuffle the list\n",
    "train_paths = tf.random.shuffle(train_paths)\n",
    "\n",
    "# split 80% train / 20% val\n",
    "split_idx = int(0.8 * len(train_paths))\n",
    "\n",
    "train_paths_split = train_paths[:split_idx]\n",
    "val_paths_split = train_paths[split_idx:]"
   ]
  },
  {
   "cell_type": "code",
   "execution_count": 15,
   "metadata": {},
   "outputs": [],
   "source": [
    "# create tensorflow datasets\n",
    "\n",
    "train_ds = tf.data.Dataset.from_tensor_slices(train_paths_split)\n",
    "val_ds = tf.data.Dataset.from_tensor_slices(val_paths_split)"
   ]
  },
  {
   "cell_type": "code",
   "execution_count": 16,
   "metadata": {},
   "outputs": [],
   "source": [
    "# for each file path, load and process the image and label\n",
    "# automatically optimize how many processes it uses to load and process files in parallel\n",
    "\n",
    "train_ds = train_ds.map(process_path, num_parallel_calls=tf.data.AUTOTUNE)\n",
    "val_ds = val_ds.map(process_path, num_parallel_calls=tf.data.AUTOTUNE)"
   ]
  },
  {
   "cell_type": "code",
   "execution_count": 17,
   "metadata": {},
   "outputs": [
    {
     "name": "stdout",
     "output_type": "stream",
     "text": [
      "(224, 224, 3)\n",
      "1\n"
     ]
    }
   ],
   "source": [
    "# check the train dataset\n",
    "\n",
    "for images, labels in train_ds.take(1):\n",
    "  print(images.shape)\n",
    "  print(labels.numpy())"
   ]
  },
  {
   "cell_type": "code",
   "execution_count": 18,
   "metadata": {},
   "outputs": [
    {
     "name": "stdout",
     "output_type": "stream",
     "text": [
      "(224, 224, 3)\n",
      "1\n"
     ]
    }
   ],
   "source": [
    "# check the val dataset\n",
    "\n",
    "for images, labels in val_ds.take(1):\n",
    "  print(images.shape)\n",
    "  print(labels.numpy())"
   ]
  },
  {
   "cell_type": "markdown",
   "metadata": {},
   "source": [
    "# Optimizing the Datasets"
   ]
  },
  {
   "cell_type": "code",
   "execution_count": 19,
   "metadata": {},
   "outputs": [
    {
     "data": {
      "text/plain": [
       "(<_PrefetchDataset element_spec=(TensorSpec(shape=(None, 224, 224, 3), dtype=tf.float32, name=None), TensorSpec(shape=(None,), dtype=tf.int32, name=None))>,\n",
       " <_PrefetchDataset element_spec=(TensorSpec(shape=(None, 224, 224, 3), dtype=tf.float32, name=None), TensorSpec(shape=(None,), dtype=tf.int32, name=None))>)"
      ]
     },
     "execution_count": 19,
     "metadata": {},
     "output_type": "execute_result"
    }
   ],
   "source": [
    "# optimize the datasets\n",
    "\n",
    "train_ds = train_ds.cache().batch(BATCH_SIZE).prefetch(buffer_size=tf.data.AUTOTUNE)\n",
    "val_ds = val_ds.cache().batch(BATCH_SIZE).prefetch(buffer_size=tf.data.AUTOTUNE)\n",
    "\n",
    "# check train & val\n",
    "\n",
    "train_ds, val_ds"
   ]
  },
  {
   "cell_type": "markdown",
   "metadata": {},
   "source": [
    "# Keras Tuner"
   ]
  },
  {
   "cell_type": "code",
   "execution_count": 20,
   "metadata": {},
   "outputs": [],
   "source": [
    "# define the keras tuner function\n",
    "\n",
    "def tune_model(hp):\n",
    "  # create the model\n",
    "  model = Sequential()\n",
    "  model.add(Rescaling(1./255, input_shape=INPUT_SHAPE))\n",
    "  for _ in range(hp.Int('num_layers', min_value=1, max_value=3)):\n",
    "    model.add(Conv2D(filters=hp.Int('layer_1_units', min_value=64, max_value=128, step=64),\n",
    "                     kernel_size=hp.Int('layer_1_kernel_size', min_value=3, max_value=4),\n",
    "                     strides=hp.Int('layer_1_stride', min_value=1, max_value=2),\n",
    "                     padding='same',\n",
    "                     activation=hp.Choice('layer_1_activation', values=['relu', 'tanh'])))\n",
    "    model.add(Dropout(hp.Float('layer_1_dropout', min_value=0.0, max_value=0.3, step=0.1)))\n",
    "    model.add(MaxPooling2D(pool_size=3, padding='valid'))\n",
    "  model.add(Flatten())\n",
    "  model.add(Dense(units=len(class_names), activation='softmax'))\n",
    "\n",
    "  model.compile(optimizer='adam', loss='sparse_categorical_crossentropy', metrics=['accuracy'])\n",
    "  return model"
   ]
  },
  {
   "cell_type": "code",
   "execution_count": 21,
   "metadata": {},
   "outputs": [
    {
     "name": "stdout",
     "output_type": "stream",
     "text": [
      "Reloading Tuner from ./untitled_project/tuner0.json\n"
     ]
    }
   ],
   "source": [
    "# create the keras tuner\n",
    "\n",
    "tuner = kt.Hyperband(tune_model, objective='val_loss', max_epochs=10)"
   ]
  },
  {
   "cell_type": "code",
   "execution_count": 22,
   "metadata": {},
   "outputs": [],
   "source": [
    "# search for best model\n",
    "\n",
    "# tuner.search(train_ds, validation_data=val_ds, epochs=10)"
   ]
  },
  {
   "cell_type": "code",
   "execution_count": 23,
   "metadata": {},
   "outputs": [
    {
     "data": {
      "text/plain": [
       "'\\nTrial 22 Complete [00h 03m 43s]\\nval_loss: 0.36785170435905457\\n\\nBest val_loss So Far: 0.3338969349861145\\nTotal elapsed time: 03h 34m 38s\\n\\nSearch: Running Trial #23\\n\\nValue             |Best Value So Far |Hyperparameter\\n1                 |3                 |num_layers\\n128               |64                |layer_1_units\\n3                 |3                 |layer_1_kernel_size\\n2                 |1                 |layer_1_stride\\nrelu              |relu              |layer_1_activation\\n0                 |0.2               |layer_1_dropout\\n10                |10                |tuner/epochs\\n0                 |4                 |tuner/initial_epoch\\n0                 |1                 |tuner/bracket\\n0                 |1                 |tuner/round\\n'"
      ]
     },
     "execution_count": 23,
     "metadata": {},
     "output_type": "execute_result"
    }
   ],
   "source": [
    "\"\"\"\n",
    "Trial 22 Complete [00h 03m 43s]\n",
    "val_loss: 0.36785170435905457\n",
    "\n",
    "Best val_loss So Far: 0.3338969349861145\n",
    "Total elapsed time: 03h 34m 38s\n",
    "\n",
    "Search: Running Trial #23\n",
    "\n",
    "Value             |Best Value So Far |Hyperparameter\n",
    "1                 |3                 |num_layers\n",
    "128               |64                |layer_1_units\n",
    "3                 |3                 |layer_1_kernel_size\n",
    "2                 |1                 |layer_1_stride\n",
    "relu              |relu              |layer_1_activation\n",
    "0                 |0.2               |layer_1_dropout\n",
    "10                |10                |tuner/epochs\n",
    "0                 |4                 |tuner/initial_epoch\n",
    "0                 |1                 |tuner/bracket\n",
    "0                 |1                 |tuner/round\n",
    "\"\"\""
   ]
  },
  {
   "cell_type": "code",
   "execution_count": 24,
   "metadata": {},
   "outputs": [
    {
     "name": "stdout",
     "output_type": "stream",
     "text": [
      "Results summary\n",
      "Results in ./untitled_project\n",
      "Showing 10 best trials\n",
      "Objective(name=\"val_loss\", direction=\"min\")\n",
      "\n",
      "Trial 0020 summary\n",
      "Hyperparameters:\n",
      "num_layers: 3\n",
      "layer_1_units: 64\n",
      "layer_1_kernel_size: 3\n",
      "layer_1_stride: 1\n",
      "layer_1_activation: relu\n",
      "layer_1_dropout: 0.2\n",
      "tuner/epochs: 10\n",
      "tuner/initial_epoch: 4\n",
      "tuner/bracket: 1\n",
      "tuner/round: 1\n",
      "tuner/trial_id: 0018\n",
      "Score: 0.3338969349861145\n",
      "\n",
      "Trial 0012 summary\n",
      "Hyperparameters:\n",
      "num_layers: 3\n",
      "layer_1_units: 128\n",
      "layer_1_kernel_size: 3\n",
      "layer_1_stride: 1\n",
      "layer_1_activation: relu\n",
      "layer_1_dropout: 0.1\n",
      "tuner/epochs: 4\n",
      "tuner/initial_epoch: 2\n",
      "tuner/bracket: 2\n",
      "tuner/round: 1\n",
      "tuner/trial_id: 0005\n",
      "Score: 0.3491802513599396\n",
      "\n",
      "Trial 0021 summary\n",
      "Hyperparameters:\n",
      "num_layers: 3\n",
      "layer_1_units: 64\n",
      "layer_1_kernel_size: 3\n",
      "layer_1_stride: 2\n",
      "layer_1_activation: relu\n",
      "layer_1_dropout: 0.0\n",
      "tuner/epochs: 10\n",
      "tuner/initial_epoch: 4\n",
      "tuner/bracket: 1\n",
      "tuner/round: 1\n",
      "tuner/trial_id: 0017\n",
      "Score: 0.36785170435905457\n",
      "\n",
      "Trial 0018 summary\n",
      "Hyperparameters:\n",
      "num_layers: 3\n",
      "layer_1_units: 64\n",
      "layer_1_kernel_size: 3\n",
      "layer_1_stride: 1\n",
      "layer_1_activation: relu\n",
      "layer_1_dropout: 0.2\n",
      "tuner/epochs: 4\n",
      "tuner/initial_epoch: 0\n",
      "tuner/bracket: 1\n",
      "tuner/round: 0\n",
      "Score: 0.40381500124931335\n",
      "\n",
      "Trial 0005 summary\n",
      "Hyperparameters:\n",
      "num_layers: 3\n",
      "layer_1_units: 128\n",
      "layer_1_kernel_size: 3\n",
      "layer_1_stride: 1\n",
      "layer_1_activation: relu\n",
      "layer_1_dropout: 0.1\n",
      "tuner/epochs: 2\n",
      "tuner/initial_epoch: 0\n",
      "tuner/bracket: 2\n",
      "tuner/round: 0\n",
      "Score: 0.41542744636535645\n",
      "\n",
      "Trial 0013 summary\n",
      "Hyperparameters:\n",
      "num_layers: 3\n",
      "layer_1_units: 64\n",
      "layer_1_kernel_size: 4\n",
      "layer_1_stride: 2\n",
      "layer_1_activation: tanh\n",
      "layer_1_dropout: 0.0\n",
      "tuner/epochs: 4\n",
      "tuner/initial_epoch: 2\n",
      "tuner/bracket: 2\n",
      "tuner/round: 1\n",
      "tuner/trial_id: 0002\n",
      "Score: 0.42723584175109863\n",
      "\n",
      "Trial 0017 summary\n",
      "Hyperparameters:\n",
      "num_layers: 3\n",
      "layer_1_units: 64\n",
      "layer_1_kernel_size: 3\n",
      "layer_1_stride: 2\n",
      "layer_1_activation: relu\n",
      "layer_1_dropout: 0.0\n",
      "tuner/epochs: 4\n",
      "tuner/initial_epoch: 0\n",
      "tuner/bracket: 1\n",
      "tuner/round: 0\n",
      "Score: 0.42801254987716675\n",
      "\n",
      "Trial 0015 summary\n",
      "Hyperparameters:\n",
      "num_layers: 2\n",
      "layer_1_units: 64\n",
      "layer_1_kernel_size: 3\n",
      "layer_1_stride: 2\n",
      "layer_1_activation: relu\n",
      "layer_1_dropout: 0.2\n",
      "tuner/epochs: 4\n",
      "tuner/initial_epoch: 0\n",
      "tuner/bracket: 1\n",
      "tuner/round: 0\n",
      "Score: 0.4304288923740387\n",
      "\n",
      "Trial 0002 summary\n",
      "Hyperparameters:\n",
      "num_layers: 3\n",
      "layer_1_units: 64\n",
      "layer_1_kernel_size: 4\n",
      "layer_1_stride: 2\n",
      "layer_1_activation: tanh\n",
      "layer_1_dropout: 0.0\n",
      "tuner/epochs: 2\n",
      "tuner/initial_epoch: 0\n",
      "tuner/bracket: 2\n",
      "tuner/round: 0\n",
      "Score: 0.4337603449821472\n",
      "\n",
      "Trial 0010 summary\n",
      "Hyperparameters:\n",
      "num_layers: 2\n",
      "layer_1_units: 128\n",
      "layer_1_kernel_size: 4\n",
      "layer_1_stride: 2\n",
      "layer_1_activation: relu\n",
      "layer_1_dropout: 0.2\n",
      "tuner/epochs: 2\n",
      "tuner/initial_epoch: 0\n",
      "tuner/bracket: 2\n",
      "tuner/round: 0\n",
      "Score: 0.5001237392425537\n"
     ]
    }
   ],
   "source": [
    "# check the results summary of the tuner\n",
    "\n",
    "tuner.results_summary()"
   ]
  },
  {
   "cell_type": "code",
   "execution_count": 25,
   "metadata": {},
   "outputs": [
    {
     "name": "stdout",
     "output_type": "stream",
     "text": [
      "Model: \"sequential\"\n",
      "_________________________________________________________________\n",
      " Layer (type)                Output Shape              Param #   \n",
      "=================================================================\n",
      " rescaling (Rescaling)       (None, 224, 224, 3)       0         \n",
      "                                                                 \n",
      " conv2d (Conv2D)             (None, 224, 224, 64)      1792      \n",
      "                                                                 \n",
      " dropout (Dropout)           (None, 224, 224, 64)      0         \n",
      "                                                                 \n",
      " max_pooling2d (MaxPooling2D  (None, 74, 74, 64)       0         \n",
      " )                                                               \n",
      "                                                                 \n",
      " conv2d_1 (Conv2D)           (None, 74, 74, 64)        36928     \n",
      "                                                                 \n",
      " dropout_1 (Dropout)         (None, 74, 74, 64)        0         \n",
      "                                                                 \n",
      " max_pooling2d_1 (MaxPooling  (None, 24, 24, 64)       0         \n",
      " 2D)                                                             \n",
      "                                                                 \n",
      " conv2d_2 (Conv2D)           (None, 24, 24, 64)        36928     \n",
      "                                                                 \n",
      " dropout_2 (Dropout)         (None, 24, 24, 64)        0         \n",
      "                                                                 \n",
      " max_pooling2d_2 (MaxPooling  (None, 8, 8, 64)         0         \n",
      " 2D)                                                             \n",
      "                                                                 \n",
      " flatten (Flatten)           (None, 4096)              0         \n",
      "                                                                 \n",
      " dense (Dense)               (None, 2)                 8194      \n",
      "                                                                 \n",
      "=================================================================\n",
      "Total params: 83,842\n",
      "Trainable params: 83,842\n",
      "Non-trainable params: 0\n",
      "_________________________________________________________________\n"
     ]
    }
   ],
   "source": [
    "# check the summary of the best model\n",
    "\n",
    "best_model = tuner.get_best_models(num_models=1)[0]\n",
    "best_model.summary()"
   ]
  },
  {
   "cell_type": "code",
   "execution_count": 26,
   "metadata": {},
   "outputs": [
    {
     "data": {
      "text/plain": [
       "{'num_layers': 3,\n",
       " 'layer_1_units': 64,\n",
       " 'layer_1_kernel_size': 3,\n",
       " 'layer_1_stride': 1,\n",
       " 'layer_1_activation': 'relu',\n",
       " 'layer_1_dropout': 0.2,\n",
       " 'tuner/epochs': 10,\n",
       " 'tuner/initial_epoch': 4,\n",
       " 'tuner/bracket': 1,\n",
       " 'tuner/round': 1,\n",
       " 'tuner/trial_id': '0018'}"
      ]
     },
     "execution_count": 26,
     "metadata": {},
     "output_type": "execute_result"
    }
   ],
   "source": [
    "# get the parameters for the best model\n",
    "\n",
    "best_params = tuner.get_best_hyperparameters()\n",
    "best_params[0].values"
   ]
  },
  {
   "cell_type": "code",
   "execution_count": 27,
   "metadata": {},
   "outputs": [
    {
     "data": {
      "text/plain": [
       "\"\\n{'num_layers': 3,\\n 'layer_1_units': 64,\\n 'layer_1_kernel_size': 3,\\n 'layer_1_stride': 1,\\n 'layer_1_activation': 'relu',\\n 'layer_1_dropout': 0.2,\\n 'tuner/epochs': 10,\\n 'tuner/initial_epoch': 4,\\n 'tuner/bracket': 1,\\n 'tuner/round': 1,\\n 'tuner/trial_id': '0018'}\\n\""
      ]
     },
     "execution_count": 27,
     "metadata": {},
     "output_type": "execute_result"
    }
   ],
   "source": [
    "\"\"\"\n",
    "{'num_layers': 3,\n",
    " 'layer_1_units': 64,\n",
    " 'layer_1_kernel_size': 3,\n",
    " 'layer_1_stride': 1,\n",
    " 'layer_1_activation': 'relu',\n",
    " 'layer_1_dropout': 0.2,\n",
    " 'tuner/epochs': 10,\n",
    " 'tuner/initial_epoch': 4,\n",
    " 'tuner/bracket': 1,\n",
    " 'tuner/round': 1,\n",
    " 'tuner/trial_id': '0018'}\n",
    "\"\"\""
   ]
  },
  {
   "cell_type": "code",
   "execution_count": 28,
   "metadata": {},
   "outputs": [],
   "source": [
    "# keep training the best model\n",
    "\n",
    "# history = best_model.fit(train_ds, validation_data=val_ds, epochs=10, batch_size=BATCH_SIZE)"
   ]
  },
  {
   "cell_type": "code",
   "execution_count": 29,
   "metadata": {},
   "outputs": [
    {
     "data": {
      "text/plain": [
       "'\\nEpoch 1/10\\n625/625 [==============================] - 123s 193ms/step - loss: 0.1884 - accuracy: 0.9230 - val_loss: 0.3490 - val_accuracy: 0.8514\\nEpoch 2/10\\n625/625 [==============================] - 120s 192ms/step - loss: 0.1646 - accuracy: 0.9312 - val_loss: 0.3811 - val_accuracy: 0.8434\\nEpoch 3/10\\n625/625 [==============================] - 137s 219ms/step - loss: 0.1618 - accuracy: 0.9322 - val_loss: 0.3862 - val_accuracy: 0.8472\\nEpoch 4/10\\n625/625 [==============================] - 130s 208ms/step - loss: 0.1532 - accuracy: 0.9371 - val_loss: 0.4049 - val_accuracy: 0.8402\\nEpoch 5/10\\n625/625 [==============================] - 128s 205ms/step - loss: 0.1639 - accuracy: 0.9311 - val_loss: 0.4049 - val_accuracy: 0.8450\\nEpoch 6/10\\n625/625 [==============================] - 138s 220ms/step - loss: 0.1300 - accuracy: 0.9469 - val_loss: 0.4229 - val_accuracy: 0.8434\\nEpoch 7/10\\n625/625 [==============================] - 132s 212ms/step - loss: 0.1018 - accuracy: 0.9592 - val_loss: 0.4036 - val_accuracy: 0.8590\\nEpoch 8/10\\n625/625 [==============================] - 130s 208ms/step - loss: 0.0995 - accuracy: 0.9602 - val_loss: 0.4177 - val_accuracy: 0.8512\\n'"
      ]
     },
     "execution_count": 29,
     "metadata": {},
     "output_type": "execute_result"
    }
   ],
   "source": [
    "\"\"\"\n",
    "Epoch 1/10\n",
    "625/625 [==============================] - 123s 193ms/step - loss: 0.1884 - accuracy: 0.9230 - val_loss: 0.3490 - val_accuracy: 0.8514\n",
    "Epoch 2/10\n",
    "625/625 [==============================] - 120s 192ms/step - loss: 0.1646 - accuracy: 0.9312 - val_loss: 0.3811 - val_accuracy: 0.8434\n",
    "Epoch 3/10\n",
    "625/625 [==============================] - 137s 219ms/step - loss: 0.1618 - accuracy: 0.9322 - val_loss: 0.3862 - val_accuracy: 0.8472\n",
    "Epoch 4/10\n",
    "625/625 [==============================] - 130s 208ms/step - loss: 0.1532 - accuracy: 0.9371 - val_loss: 0.4049 - val_accuracy: 0.8402\n",
    "Epoch 5/10\n",
    "625/625 [==============================] - 128s 205ms/step - loss: 0.1639 - accuracy: 0.9311 - val_loss: 0.4049 - val_accuracy: 0.8450\n",
    "Epoch 6/10\n",
    "625/625 [==============================] - 138s 220ms/step - loss: 0.1300 - accuracy: 0.9469 - val_loss: 0.4229 - val_accuracy: 0.8434\n",
    "Epoch 7/10\n",
    "625/625 [==============================] - 132s 212ms/step - loss: 0.1018 - accuracy: 0.9592 - val_loss: 0.4036 - val_accuracy: 0.8590\n",
    "Epoch 8/10\n",
    "625/625 [==============================] - 130s 208ms/step - loss: 0.0995 - accuracy: 0.9602 - val_loss: 0.4177 - val_accuracy: 0.8512\n",
    "\"\"\""
   ]
  },
  {
   "cell_type": "code",
   "execution_count": 30,
   "metadata": {},
   "outputs": [],
   "source": [
    "# define a function to plot history\n",
    "\n",
    "def plot_history(history):\n",
    "  for metric in history.history.keys():\n",
    "    if not metric.startswith('val'):        # if it doesn't start with val\n",
    "      plt.plot(history.history[metric], label=metric)\n",
    "      if f'val_{metric}' in history.history.keys():     # if val is in the keys, then plot that as well\n",
    "        plt.plot(history.history[f'val_{metric}'], label=f'val+{metric}')\n",
    "      plt.title(metric)\n",
    "      plt.legend()\n",
    "      plt.show()"
   ]
  },
  {
   "cell_type": "code",
   "execution_count": 40,
   "metadata": {},
   "outputs": [],
   "source": [
    "# re-create the best model using the best parameters\n",
    "\n",
    "def build_best_model():\n",
    "  model = Sequential()\n",
    "  model.add(Rescaling(1./255, input_shape=INPUT_SHAPE))\n",
    "  model.add(Conv2D(filters=64,kernel_size=3,strides=1,padding='same',activation='relu'))\n",
    "  model.add(Dropout(0.2))\n",
    "  model.add(MaxPooling2D(pool_size=3, padding='valid'))\n",
    "  model.add(Conv2D(filters=64,kernel_size=3,strides=1,padding='same',activation='relu'))\n",
    "  model.add(Dropout(0.2))\n",
    "  model.add(MaxPooling2D(pool_size=3, padding='valid'))\n",
    "  model.add(Conv2D(filters=64,kernel_size=3,strides=1,padding='same',activation='relu'))\n",
    "  model.add(Dropout(0.2))\n",
    "  model.add(MaxPooling2D(pool_size=3, padding='valid'))\n",
    "  model.add(Flatten())\n",
    "  model.add(Dense(units=len(class_names), activation='softmax'))\n",
    "\n",
    "  model.compile(optimizer='adam', loss='sparse_categorical_crossentropy', metrics=['accuracy'])\n",
    "  return model"
   ]
  },
  {
   "cell_type": "code",
   "execution_count": 42,
   "metadata": {},
   "outputs": [
    {
     "name": "stdout",
     "output_type": "stream",
     "text": [
      "Model: \"sequential_3\"\n",
      "_________________________________________________________________\n",
      " Layer (type)                Output Shape              Param #   \n",
      "=================================================================\n",
      " rescaling_3 (Rescaling)     (None, 224, 224, 3)       0         \n",
      "                                                                 \n",
      " conv2d_7 (Conv2D)           (None, 224, 224, 64)      1792      \n",
      "                                                                 \n",
      " dropout_7 (Dropout)         (None, 224, 224, 64)      0         \n",
      "                                                                 \n",
      " max_pooling2d_7 (MaxPooling  (None, 74, 74, 64)       0         \n",
      " 2D)                                                             \n",
      "                                                                 \n",
      " conv2d_8 (Conv2D)           (None, 74, 74, 64)        36928     \n",
      "                                                                 \n",
      " dropout_8 (Dropout)         (None, 74, 74, 64)        0         \n",
      "                                                                 \n",
      " max_pooling2d_8 (MaxPooling  (None, 24, 24, 64)       0         \n",
      " 2D)                                                             \n",
      "                                                                 \n",
      " conv2d_9 (Conv2D)           (None, 24, 24, 64)        36928     \n",
      "                                                                 \n",
      " dropout_9 (Dropout)         (None, 24, 24, 64)        0         \n",
      "                                                                 \n",
      " max_pooling2d_9 (MaxPooling  (None, 8, 8, 64)         0         \n",
      " 2D)                                                             \n",
      "                                                                 \n",
      " flatten_3 (Flatten)         (None, 4096)              0         \n",
      "                                                                 \n",
      " dense_3 (Dense)             (None, 2)                 8194      \n",
      "                                                                 \n",
      "=================================================================\n",
      "Total params: 83,842\n",
      "Trainable params: 83,842\n",
      "Non-trainable params: 0\n",
      "_________________________________________________________________\n"
     ]
    }
   ],
   "source": [
    "# create the model\n",
    "\n",
    "tuned_best_model = build_best_model()\n",
    "tuned_best_model.summary()"
   ]
  },
  {
   "cell_type": "code",
   "execution_count": 43,
   "metadata": {},
   "outputs": [
    {
     "name": "stdout",
     "output_type": "stream",
     "text": [
      "Epoch 1/10\n",
      "625/625 [==============================] - 120s 191ms/step - loss: 0.5862 - accuracy: 0.6794 - val_loss: 0.5317 - val_accuracy: 0.7344\n",
      "Epoch 2/10\n",
      "625/625 [==============================] - 118s 188ms/step - loss: 0.4762 - accuracy: 0.7757 - val_loss: 0.4454 - val_accuracy: 0.7984\n",
      "Epoch 3/10\n",
      "625/625 [==============================] - 121s 193ms/step - loss: 0.4075 - accuracy: 0.8153 - val_loss: 0.4101 - val_accuracy: 0.8244\n",
      "Epoch 4/10\n",
      "625/625 [==============================] - 120s 191ms/step - loss: 0.3565 - accuracy: 0.8418 - val_loss: 0.3849 - val_accuracy: 0.8288\n",
      "Epoch 5/10\n",
      "625/625 [==============================] - 124s 199ms/step - loss: 0.3071 - accuracy: 0.8651 - val_loss: 0.3737 - val_accuracy: 0.8386\n",
      "Epoch 6/10\n",
      "625/625 [==============================] - 123s 196ms/step - loss: 0.2680 - accuracy: 0.8863 - val_loss: 0.3435 - val_accuracy: 0.8542\n",
      "Epoch 7/10\n",
      "625/625 [==============================] - 125s 200ms/step - loss: 0.2358 - accuracy: 0.9027 - val_loss: 0.3344 - val_accuracy: 0.8614\n",
      "Epoch 8/10\n",
      "625/625 [==============================] - 123s 197ms/step - loss: 0.2055 - accuracy: 0.9155 - val_loss: 0.3302 - val_accuracy: 0.8628\n",
      "Epoch 9/10\n",
      "625/625 [==============================] - 126s 202ms/step - loss: 0.1813 - accuracy: 0.9243 - val_loss: 0.3749 - val_accuracy: 0.8462\n",
      "Epoch 10/10\n",
      "625/625 [==============================] - 127s 203ms/step - loss: 0.1549 - accuracy: 0.9354 - val_loss: 0.4052 - val_accuracy: 0.8384\n"
     ]
    }
   ],
   "source": [
    "# fit the model\n",
    "\n",
    "history = tuned_best_model.fit(train_ds,\n",
    "                              validation_data=val_ds,\n",
    "                              epochs=10,\n",
    "                              callbacks=[EarlyStopping(patience=3, restore_best_weights=True)])"
   ]
  },
  {
   "cell_type": "code",
   "execution_count": 44,
   "metadata": {},
   "outputs": [
    {
     "data": {
      "image/png": "[encoded data removed]",
      "text/plain": [
       "<Figure size 640x480 with 1 Axes>"
      ]
     },
     "metadata": {},
     "output_type": "display_data"
    },
    {
     "data": {
      "image/png": "[encoded data removed]",
      "text/plain": [
       "<Figure size 640x480 with 1 Axes>"
      ]
     },
     "metadata": {},
     "output_type": "display_data"
    }
   ],
   "source": [
    "# plot the metrics for the best model\n",
    "\n",
    "plot_history(history)"
   ]
  },
  {
   "cell_type": "code",
   "execution_count": 45,
   "metadata": {},
   "outputs": [
    {
     "name": "stderr",
     "output_type": "stream",
     "text": [
      "/Users/annahan/miniforge3/envs/tf-metal/lib/python3.10/site-packages/visualkeras/layered.py:86: UserWarning: The legend_text_spacing_offset parameter is deprecated and will be removed in a future release.\n",
      "  warnings.warn(\"The legend_text_spacing_offset parameter is deprecated and will be removed in a future release.\")\n"
     ]
    },
    {
     "data": {
      "image/png": "[encoded data removed]",
      "text/plain": [
       "<PIL.Image.Image image mode=RGBA size=903x1233>"
      ]
     },
     "execution_count": 45,
     "metadata": {},
     "output_type": "execute_result"
    }
   ],
   "source": [
    "# use visualkeras to visualize the model\n",
    "\n",
    "import visualkeras as vk\n",
    "\n",
    "vk.layered_view(tuned_best_model, legend=True)"
   ]
  },
  {
   "cell_type": "code",
   "execution_count": 53,
   "metadata": {},
   "outputs": [
    {
     "name": "stdout",
     "output_type": "stream",
     "text": [
      "157/157 [==============================] - 7s 43ms/step\n"
     ]
    },
    {
     "data": {
      "text/plain": [
       "array([[2.1611629e-03, 9.9783891e-01],\n",
       "       [8.0035435e-04, 9.9919969e-01],\n",
       "       [1.1121938e-01, 8.8878059e-01],\n",
       "       ...,\n",
       "       [1.0028557e-02, 9.8997140e-01],\n",
       "       [8.3245003e-01, 1.6755001e-01],\n",
       "       [7.1501628e-02, 9.2849839e-01]], dtype=float32)"
      ]
     },
     "execution_count": 53,
     "metadata": {},
     "output_type": "execute_result"
    }
   ],
   "source": [
    "# get the predictions for val\n",
    "\n",
    "val_pred = tuned_best_model.predict(val_ds)\n",
    "val_pred"
   ]
  },
  {
   "cell_type": "code",
   "execution_count": 47,
   "metadata": {},
   "outputs": [
    {
     "name": "stdout",
     "output_type": "stream",
     "text": [
      "391/391 [==============================] - 17s 42ms/step\n"
     ]
    },
    {
     "data": {
      "text/plain": [
       "array([[0.01593756, 0.9840625 ],\n",
       "       [0.9240736 , 0.07592637],\n",
       "       [0.9334557 , 0.06654424],\n",
       "       ...,\n",
       "       [0.01346171, 0.9865383 ],\n",
       "       [0.97693104, 0.02306899],\n",
       "       [0.35355085, 0.6464491 ]], dtype=float32)"
      ]
     },
     "execution_count": 47,
     "metadata": {},
     "output_type": "execute_result"
    }
   ],
   "source": [
    "# get the predictions\n",
    "\n",
    "y_pred = tuned_best_model.predict(test_ds)\n",
    "y_pred"
   ]
  },
  {
   "cell_type": "code",
   "execution_count": 48,
   "metadata": {},
   "outputs": [],
   "source": [
    "y_pred2 = np.argmax(y_pred, axis=1)"
   ]
  },
  {
   "cell_type": "code",
   "execution_count": 51,
   "metadata": {},
   "outputs": [
    {
     "data": {
      "text/plain": [
       "array([1, 0, 0, 1, 1, 0, 0, 1, 1, 0])"
      ]
     },
     "execution_count": 51,
     "metadata": {},
     "output_type": "execute_result"
    }
   ],
   "source": [
    "y_pred2[:10]"
   ]
  },
  {
   "cell_type": "code",
   "execution_count": null,
   "metadata": {},
   "outputs": [],
   "source": []
  }
 ],
 "metadata": {
  "kernelspec": {
   "display_name": "Python 3",
   "language": "python",
   "name": "python3"
  },
  "language_info": {
   "codemirror_mode": {
    "name": "ipython",
    "version": 3
   },
   "file_extension": ".py",
   "mimetype": "text/x-python",
   "name": "python",
   "nbconvert_exporter": "python",
   "pygments_lexer": "ipython3",
   "version": "3.10.17"
  }
 },
 "nbformat": 4,
 "nbformat_minor": 2
}
